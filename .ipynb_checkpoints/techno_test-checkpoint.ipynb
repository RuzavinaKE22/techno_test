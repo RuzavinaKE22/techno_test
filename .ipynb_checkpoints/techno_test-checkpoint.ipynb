{
 "cells": [
  {
   "cell_type": "markdown",
   "id": "X9S0-KZXejVJ",
   "metadata": {
    "id": "X9S0-KZXejVJ"
   },
   "source": [
    "# Классификация временных рядов"
   ]
  },
  {
   "cell_type": "markdown",
   "id": "N3ps5EnseqlB",
   "metadata": {
    "id": "N3ps5EnseqlB"
   },
   "source": [
    "**Задача:** надо классифицировать временные ряды на два класса. Решение должно содержать анализ предоставленных данных (EDA), процесс построения и проверки гипотез, генерацию признаков из обучающей выборки, обучение модели и предсказание.\n",
    "\n",
    "**Целевая метрика:** ROC AUC. \\\n",
    "**Выборки:**\n",
    "- train.parquet - обучающая выборка.\n",
    "- test.parquet - тестовая выборка.\n",
    "- sample_submission.csv - пример решения."
   ]
  },
  {
   "cell_type": "markdown",
   "id": "IPDwipZBgQpX",
   "metadata": {
    "id": "IPDwipZBgQpX"
   },
   "source": [
    "**Обучающая выборка train.parquet:**\n",
    "- id - уникальный идентификатор объекта.\n",
    "- dates - массив с датами наблюдений.\n",
    "- values - массив с соответствующими наблюдениями.\n",
    "- label - класс ряда.\n",
    "\n",
    "**Тестовая выборка test.parquet:**\n",
    "- id - уникальный идентификатор объекта.\n",
    "- dates - массив с датами наблюдений.\n",
    "- values - массив с соответствующими наблюдениями.\n",
    "\n",
    "**Пример решения sample_submission.csv:**\n",
    "- id - уникальный идентификатор объекта.\n",
    "- score - предсказание (вероятность класса 1)."
   ]
  },
  {
   "cell_type": "markdown",
   "id": "CPr5hqnxech8",
   "metadata": {
    "id": "CPr5hqnxech8"
   },
   "source": [
    "## Исследование и обработка данных"
   ]
  },
  {
   "cell_type": "code",
   "execution_count": 2,
   "id": "d613513e",
   "metadata": {
    "id": "d613513e"
   },
   "outputs": [
    {
     "name": "stderr",
     "output_type": "stream",
     "text": [
      "C:\\Users\\ruzks\\anaconda3\\lib\\site-packages\\pandas\\core\\computation\\expressions.py:21: UserWarning: Pandas requires version '2.8.4' or newer of 'numexpr' (version '2.8.1' currently installed).\n",
      "  from pandas.core.computation.check import NUMEXPR_INSTALLED\n",
      "C:\\Users\\ruzks\\anaconda3\\lib\\site-packages\\pandas\\core\\arrays\\masked.py:60: UserWarning: Pandas requires version '1.3.6' or newer of 'bottleneck' (version '1.3.4' currently installed).\n",
      "  from pandas.core import (\n"
     ]
    }
   ],
   "source": [
    "import pandas as pd\n",
    "import numpy as np\n",
    "import seaborn as sns\n",
    "import matplotlib.pyplot as plt\n",
    "from sklearn.model_selection import train_test_split\n",
    "from sklearn.linear_model import LogisticRegression\n",
    "from sklearn.metrics import accuracy_score, precision_score, recall_score\n",
    "from sklearn.metrics import f1_score, roc_auc_score\n",
    "from scipy.stats import skew, kurtosis"
   ]
  },
  {
   "cell_type": "code",
   "execution_count": 3,
   "id": "a38b6249",
   "metadata": {
    "colab": {
     "base_uri": "https://localhost:8080/",
     "height": 206
    },
    "id": "a38b6249",
    "outputId": "351a4dfa-58c0-4ec5-fa53-65c9aa9280c3"
   },
   "outputs": [
    {
     "data": {
      "text/html": [
       "<div>\n",
       "<style scoped>\n",
       "    .dataframe tbody tr th:only-of-type {\n",
       "        vertical-align: middle;\n",
       "    }\n",
       "\n",
       "    .dataframe tbody tr th {\n",
       "        vertical-align: top;\n",
       "    }\n",
       "\n",
       "    .dataframe thead th {\n",
       "        text-align: right;\n",
       "    }\n",
       "</style>\n",
       "<table border=\"1\" class=\"dataframe\">\n",
       "  <thead>\n",
       "    <tr style=\"text-align: right;\">\n",
       "      <th></th>\n",
       "      <th>id</th>\n",
       "      <th>dates</th>\n",
       "      <th>values</th>\n",
       "      <th>label</th>\n",
       "    </tr>\n",
       "  </thead>\n",
       "  <tbody>\n",
       "    <tr>\n",
       "      <th>0</th>\n",
       "      <td>19114</td>\n",
       "      <td>[2016-01-01, 2016-02-01, 2016-03-01, 2016-04-0...</td>\n",
       "      <td>[-1.86, 0.79, 1.4, 0.15, 0.0, -1.24, -1.46, 3....</td>\n",
       "      <td>0.0</td>\n",
       "    </tr>\n",
       "    <tr>\n",
       "      <th>1</th>\n",
       "      <td>22769</td>\n",
       "      <td>[2016-05-01, 2016-06-01, 2016-07-01, 2016-08-0...</td>\n",
       "      <td>[-1.04, -3.48, 0.05, -0.13, -0.01, 0.03, 0.27,...</td>\n",
       "      <td>1.0</td>\n",
       "    </tr>\n",
       "    <tr>\n",
       "      <th>2</th>\n",
       "      <td>76935</td>\n",
       "      <td>[2017-03-01, 2017-04-01, 2017-05-01, 2017-06-0...</td>\n",
       "      <td>[0.28, 0.63, 0.06, 0.96, -1.4, -0.3, 1.62, 1.1...</td>\n",
       "      <td>0.0</td>\n",
       "    </tr>\n",
       "    <tr>\n",
       "      <th>3</th>\n",
       "      <td>66297</td>\n",
       "      <td>[2016-01-01, 2016-02-01, 2016-03-01, 2016-04-0...</td>\n",
       "      <td>[-0.33, 0.58, 1.1, -0.56, -0.95, -0.61, -0.7, ...</td>\n",
       "      <td>0.0</td>\n",
       "    </tr>\n",
       "    <tr>\n",
       "      <th>4</th>\n",
       "      <td>2191</td>\n",
       "      <td>[2016-01-01, 2016-02-01, 2016-03-01, 2016-04-0...</td>\n",
       "      <td>[1.31, 0.5, -0.54, 0.95, 0.65, 0.83, -1.55, -0...</td>\n",
       "      <td>0.0</td>\n",
       "    </tr>\n",
       "  </tbody>\n",
       "</table>\n",
       "</div>"
      ],
      "text/plain": [
       "      id                                              dates  \\\n",
       "0  19114  [2016-01-01, 2016-02-01, 2016-03-01, 2016-04-0...   \n",
       "1  22769  [2016-05-01, 2016-06-01, 2016-07-01, 2016-08-0...   \n",
       "2  76935  [2017-03-01, 2017-04-01, 2017-05-01, 2017-06-0...   \n",
       "3  66297  [2016-01-01, 2016-02-01, 2016-03-01, 2016-04-0...   \n",
       "4   2191  [2016-01-01, 2016-02-01, 2016-03-01, 2016-04-0...   \n",
       "\n",
       "                                              values  label  \n",
       "0  [-1.86, 0.79, 1.4, 0.15, 0.0, -1.24, -1.46, 3....    0.0  \n",
       "1  [-1.04, -3.48, 0.05, -0.13, -0.01, 0.03, 0.27,...    1.0  \n",
       "2  [0.28, 0.63, 0.06, 0.96, -1.4, -0.3, 1.62, 1.1...    0.0  \n",
       "3  [-0.33, 0.58, 1.1, -0.56, -0.95, -0.61, -0.7, ...    0.0  \n",
       "4  [1.31, 0.5, -0.54, 0.95, 0.65, 0.83, -1.55, -0...    0.0  "
      ]
     },
     "execution_count": 3,
     "metadata": {},
     "output_type": "execute_result"
    }
   ],
   "source": [
    "train = pd.read_parquet('data/train.parquet')\n",
    "train.head()"
   ]
  },
  {
   "cell_type": "code",
   "execution_count": 4,
   "id": "7b364187",
   "metadata": {
    "colab": {
     "base_uri": "https://localhost:8080/",
     "height": 206
    },
    "id": "7b364187",
    "outputId": "35ebe1c3-5393-444d-8262-d829a21a3ba8"
   },
   "outputs": [
    {
     "data": {
      "text/html": [
       "<div>\n",
       "<style scoped>\n",
       "    .dataframe tbody tr th:only-of-type {\n",
       "        vertical-align: middle;\n",
       "    }\n",
       "\n",
       "    .dataframe tbody tr th {\n",
       "        vertical-align: top;\n",
       "    }\n",
       "\n",
       "    .dataframe thead th {\n",
       "        text-align: right;\n",
       "    }\n",
       "</style>\n",
       "<table border=\"1\" class=\"dataframe\">\n",
       "  <thead>\n",
       "    <tr style=\"text-align: right;\">\n",
       "      <th></th>\n",
       "      <th>id</th>\n",
       "      <th>dates</th>\n",
       "      <th>values</th>\n",
       "    </tr>\n",
       "  </thead>\n",
       "  <tbody>\n",
       "    <tr>\n",
       "      <th>0</th>\n",
       "      <td>6125</td>\n",
       "      <td>[2016-01-01, 2016-02-01, 2016-03-01, 2016-04-0...</td>\n",
       "      <td>[1.85, -0.04, 0.19, -0.45, -0.75, -0.95, -2.91...</td>\n",
       "    </tr>\n",
       "    <tr>\n",
       "      <th>1</th>\n",
       "      <td>26781</td>\n",
       "      <td>[2016-01-01, 2016-02-01, 2016-03-01, 2016-04-0...</td>\n",
       "      <td>[-0.41, 0.39, -0.47, -0.9, -1.46, -0.51, 0.51,...</td>\n",
       "    </tr>\n",
       "    <tr>\n",
       "      <th>2</th>\n",
       "      <td>13333</td>\n",
       "      <td>[2016-06-01, 2016-07-01, 2016-08-01, 2016-09-0...</td>\n",
       "      <td>[-0.29, -1.26, 0.17, -1.22, 0.45, -0.94, 0.16,...</td>\n",
       "    </tr>\n",
       "    <tr>\n",
       "      <th>3</th>\n",
       "      <td>53218</td>\n",
       "      <td>[2016-01-01, 2016-02-01, 2016-03-01, 2016-04-0...</td>\n",
       "      <td>[-1.47, 1.55, -0.03, 0.57, -0.57, 0.6, 0.27, 1...</td>\n",
       "    </tr>\n",
       "    <tr>\n",
       "      <th>4</th>\n",
       "      <td>84204</td>\n",
       "      <td>[2016-01-01, 2016-02-01, 2016-03-01, 2016-04-0...</td>\n",
       "      <td>[2.33, 1.39, -1.03, -2.64, 1.89, 1.77, 1.43, 1...</td>\n",
       "    </tr>\n",
       "  </tbody>\n",
       "</table>\n",
       "</div>"
      ],
      "text/plain": [
       "      id                                              dates  \\\n",
       "0   6125  [2016-01-01, 2016-02-01, 2016-03-01, 2016-04-0...   \n",
       "1  26781  [2016-01-01, 2016-02-01, 2016-03-01, 2016-04-0...   \n",
       "2  13333  [2016-06-01, 2016-07-01, 2016-08-01, 2016-09-0...   \n",
       "3  53218  [2016-01-01, 2016-02-01, 2016-03-01, 2016-04-0...   \n",
       "4  84204  [2016-01-01, 2016-02-01, 2016-03-01, 2016-04-0...   \n",
       "\n",
       "                                              values  \n",
       "0  [1.85, -0.04, 0.19, -0.45, -0.75, -0.95, -2.91...  \n",
       "1  [-0.41, 0.39, -0.47, -0.9, -1.46, -0.51, 0.51,...  \n",
       "2  [-0.29, -1.26, 0.17, -1.22, 0.45, -0.94, 0.16,...  \n",
       "3  [-1.47, 1.55, -0.03, 0.57, -0.57, 0.6, 0.27, 1...  \n",
       "4  [2.33, 1.39, -1.03, -2.64, 1.89, 1.77, 1.43, 1...  "
      ]
     },
     "execution_count": 4,
     "metadata": {},
     "output_type": "execute_result"
    }
   ],
   "source": [
    "test = pd.read_parquet('data/test.parquet')\n",
    "test.head()"
   ]
  },
  {
   "cell_type": "code",
   "execution_count": 5,
   "id": "FCSMtQRGmFtd",
   "metadata": {
    "colab": {
     "base_uri": "https://localhost:8080/"
    },
    "id": "FCSMtQRGmFtd",
    "outputId": "bb32dd3f-a2e9-448e-c5ac-bf417f64a59e"
   },
   "outputs": [
    {
     "name": "stdout",
     "output_type": "stream",
     "text": [
      "<class 'pandas.core.frame.DataFrame'>\n",
      "RangeIndex: 80000 entries, 0 to 79999\n",
      "Data columns (total 4 columns):\n",
      " #   Column  Non-Null Count  Dtype  \n",
      "---  ------  --------------  -----  \n",
      " 0   id      80000 non-null  int64  \n",
      " 1   dates   80000 non-null  object \n",
      " 2   values  80000 non-null  object \n",
      " 3   label   80000 non-null  float64\n",
      "dtypes: float64(1), int64(1), object(2)\n",
      "memory usage: 2.4+ MB\n"
     ]
    }
   ],
   "source": [
    "train.info()"
   ]
  },
  {
   "cell_type": "code",
   "execution_count": 6,
   "id": "QOvk20FmmIZM",
   "metadata": {
    "colab": {
     "base_uri": "https://localhost:8080/"
    },
    "id": "QOvk20FmmIZM",
    "outputId": "431265c8-e486-4556-f202-74659e1de68d"
   },
   "outputs": [
    {
     "name": "stdout",
     "output_type": "stream",
     "text": [
      "<class 'pandas.core.frame.DataFrame'>\n",
      "RangeIndex: 20000 entries, 0 to 19999\n",
      "Data columns (total 3 columns):\n",
      " #   Column  Non-Null Count  Dtype \n",
      "---  ------  --------------  ----- \n",
      " 0   id      20000 non-null  int64 \n",
      " 1   dates   20000 non-null  object\n",
      " 2   values  20000 non-null  object\n",
      "dtypes: int64(1), object(2)\n",
      "memory usage: 468.9+ KB\n"
     ]
    }
   ],
   "source": [
    "test.info()"
   ]
  },
  {
   "cell_type": "markdown",
   "id": "b489c088",
   "metadata": {
    "id": "b489c088"
   },
   "source": [
    "Размер\n",
    "- train.shape (80000, 4)\n",
    "- test.shape (20000, 3) \n",
    "\n",
    "Количество значений в массивах values разное. \\\n",
    "Есть строки с пустыми массивами values."
   ]
  },
  {
   "cell_type": "markdown",
   "id": "269f530e",
   "metadata": {},
   "source": [
    "### Формирование новых признаков"
   ]
  },
  {
   "cell_type": "markdown",
   "id": "cadc0cf6",
   "metadata": {},
   "source": [
    "**extract_basic_stats**\n",
    "- mean - Среднее значение\n",
    "- std - Стандартное отклонение\n",
    "- max - Максимальное значение\n",
    "- min - Минимальное значение\n",
    "- median - Медиана\n",
    "- q25 - 25-й процентиль\n",
    "- q75 - 75-й процентиль\n",
    "- skewness - Коэффициент асимметрии (мера ассимметрии)\n",
    "- kurtosis - Куртозис (мера остроты или плоскости распределения)\n",
    "\n",
    "**extract_fourier_features**\n",
    "- fourier_0-fourier_4 - Признаки, полученные с помощью преобразования Фурье (указывают на частоты и амплитуды соответствующих гармоник временного ряда)\n",
    "\n",
    "**create_lag_features**\n",
    "- lag_1-lag_3 - Лаговые значения (отставания)\n",
    "\n",
    "**extract_moving_avg_ewm**\n",
    "- moving_avg - Скользящее среднее\n",
    "- ewm - Экспоненциально взвешенное среднее"
   ]
  },
  {
   "cell_type": "code",
   "execution_count": 7,
   "id": "XEHJQT4nlyWL",
   "metadata": {
    "id": "XEHJQT4nlyWL"
   },
   "outputs": [],
   "source": [
    "def extract_basic_stats(row):\n",
    "    values = np.array(row['values'])\n",
    "    return pd.Series({\n",
    "        'mean': np.mean(values),\n",
    "        'std': np.std(values),\n",
    "        'max': np.max(values),\n",
    "        'min': np.min(values),\n",
    "        'median': np.median(values),\n",
    "        'q25': np.percentile(values, 25),\n",
    "        'q75': np.percentile(values, 75),\n",
    "        'skewness': skew(values),\n",
    "        'kurtosis': kurtosis(values)\n",
    "    })"
   ]
  },
  {
   "cell_type": "code",
   "execution_count": 8,
   "id": "H6efysEGnbUc",
   "metadata": {
    "id": "H6efysEGnbUc"
   },
   "outputs": [],
   "source": [
    "df_stats = train.apply(extract_basic_stats, axis=1)\n",
    "df_train = pd.concat([train, df_stats], axis=1)"
   ]
  },
  {
   "cell_type": "code",
   "execution_count": 9,
   "id": "fNUwcmR7nwp7",
   "metadata": {
    "id": "fNUwcmR7nwp7"
   },
   "outputs": [],
   "source": [
    "def extract_fourier_features(row, n_coeffs=5):\n",
    "    values = np.array(row['values'])\n",
    "    fourier_coeffs = np.fft.fft(values)[:n_coeffs].real \n",
    "    return pd.Series(fourier_coeffs, index=[f'fourier_{i}' for i in range(n_coeffs)])"
   ]
  },
  {
   "cell_type": "code",
   "execution_count": 10,
   "id": "-XsUudgHn4n0",
   "metadata": {
    "id": "-XsUudgHn4n0"
   },
   "outputs": [],
   "source": [
    "df_fourier = train.apply(extract_fourier_features, axis=1)\n",
    "df_train = pd.concat([df_train, df_fourier], axis=1)"
   ]
  },
  {
   "cell_type": "code",
   "execution_count": 11,
   "id": "YAsWjHsAoEJR",
   "metadata": {
    "id": "YAsWjHsAoEJR"
   },
   "outputs": [],
   "source": [
    "def create_lag_features(row, lags=3):\n",
    "    values = np.array(row['values'])\n",
    "    lag_features = values[-lags:] if len(values) >= lags else np.pad(values, (lags - len(values), 0), mode='constant')\n",
    "    return pd.Series(lag_features, index=[f'lag_{i+1}' for i in range(lags)])"
   ]
  },
  {
   "cell_type": "code",
   "execution_count": 12,
   "id": "-E6wH2qpoKI6",
   "metadata": {
    "id": "-E6wH2qpoKI6"
   },
   "outputs": [],
   "source": [
    "df_lags = train.apply(create_lag_features, axis=1)\n",
    "df_train = pd.concat([df_train, df_lags], axis=1)"
   ]
  },
  {
   "cell_type": "code",
   "execution_count": 13,
   "id": "10KDpxBxoVb9",
   "metadata": {
    "id": "10KDpxBxoVb9"
   },
   "outputs": [],
   "source": [
    "def extract_moving_avg_ewm(row, window=3, alpha=0.5):\n",
    "    values = pd.Series(row['values'])\n",
    "    moving_avg = values.rolling(window).mean().iloc[-1] if len(values) >= window else np.nan\n",
    "    ewm = values.ewm(alpha=alpha).mean().iloc[-1]\n",
    "    return pd.Series({'moving_avg': moving_avg, 'ewm': ewm})"
   ]
  },
  {
   "cell_type": "code",
   "execution_count": 14,
   "id": "Inojza676veZ",
   "metadata": {
    "id": "Inojza676veZ"
   },
   "outputs": [],
   "source": [
    "df_smoothing = train.apply(extract_moving_avg_ewm, axis=1)\n",
    "df_train = pd.concat([df_train, df_smoothing], axis=1)"
   ]
  },
  {
   "cell_type": "code",
   "execution_count": 15,
   "id": "a6a8dc32",
   "metadata": {},
   "outputs": [
    {
     "data": {
      "text/html": [
       "<div>\n",
       "<style scoped>\n",
       "    .dataframe tbody tr th:only-of-type {\n",
       "        vertical-align: middle;\n",
       "    }\n",
       "\n",
       "    .dataframe tbody tr th {\n",
       "        vertical-align: top;\n",
       "    }\n",
       "\n",
       "    .dataframe thead th {\n",
       "        text-align: right;\n",
       "    }\n",
       "</style>\n",
       "<table border=\"1\" class=\"dataframe\">\n",
       "  <thead>\n",
       "    <tr style=\"text-align: right;\">\n",
       "      <th></th>\n",
       "      <th>id</th>\n",
       "      <th>dates</th>\n",
       "      <th>values</th>\n",
       "      <th>label</th>\n",
       "      <th>mean</th>\n",
       "      <th>std</th>\n",
       "      <th>max</th>\n",
       "      <th>min</th>\n",
       "      <th>median</th>\n",
       "      <th>q25</th>\n",
       "      <th>...</th>\n",
       "      <th>fourier_0</th>\n",
       "      <th>fourier_1</th>\n",
       "      <th>fourier_2</th>\n",
       "      <th>fourier_3</th>\n",
       "      <th>fourier_4</th>\n",
       "      <th>lag_1</th>\n",
       "      <th>lag_2</th>\n",
       "      <th>lag_3</th>\n",
       "      <th>moving_avg</th>\n",
       "      <th>ewm</th>\n",
       "    </tr>\n",
       "  </thead>\n",
       "  <tbody>\n",
       "    <tr>\n",
       "      <th>0</th>\n",
       "      <td>19114</td>\n",
       "      <td>[2016-01-01, 2016-02-01, 2016-03-01, 2016-04-0...</td>\n",
       "      <td>[-1.86, 0.79, 1.4, 0.15, 0.0, -1.24, -1.46, 3....</td>\n",
       "      <td>0.0</td>\n",
       "      <td>0.023710</td>\n",
       "      <td>1.337272</td>\n",
       "      <td>3.49</td>\n",
       "      <td>-4.840000</td>\n",
       "      <td>-0.110000</td>\n",
       "      <td>-0.6825</td>\n",
       "      <td>...</td>\n",
       "      <td>1.470000</td>\n",
       "      <td>-0.572143</td>\n",
       "      <td>3.571763</td>\n",
       "      <td>-0.089116</td>\n",
       "      <td>-4.543015</td>\n",
       "      <td>0.350000</td>\n",
       "      <td>-0.510000</td>\n",
       "      <td>-0.570000</td>\n",
       "      <td>-0.243333</td>\n",
       "      <td>-0.311900</td>\n",
       "    </tr>\n",
       "    <tr>\n",
       "      <th>1</th>\n",
       "      <td>22769</td>\n",
       "      <td>[2016-05-01, 2016-06-01, 2016-07-01, 2016-08-0...</td>\n",
       "      <td>[-1.04, -3.48, 0.05, -0.13, -0.01, 0.03, 0.27,...</td>\n",
       "      <td>1.0</td>\n",
       "      <td>-0.310777</td>\n",
       "      <td>1.556337</td>\n",
       "      <td>2.92</td>\n",
       "      <td>-3.534409</td>\n",
       "      <td>-0.274409</td>\n",
       "      <td>-1.0400</td>\n",
       "      <td>...</td>\n",
       "      <td>-13.984957</td>\n",
       "      <td>0.707216</td>\n",
       "      <td>-8.840319</td>\n",
       "      <td>-2.343972</td>\n",
       "      <td>-11.727264</td>\n",
       "      <td>0.045591</td>\n",
       "      <td>-0.444409</td>\n",
       "      <td>-0.054409</td>\n",
       "      <td>-0.151076</td>\n",
       "      <td>-0.296800</td>\n",
       "    </tr>\n",
       "    <tr>\n",
       "      <th>2</th>\n",
       "      <td>76935</td>\n",
       "      <td>[2017-03-01, 2017-04-01, 2017-05-01, 2017-06-0...</td>\n",
       "      <td>[0.28, 0.63, 0.06, 0.96, -1.4, -0.3, 1.62, 1.1...</td>\n",
       "      <td>0.0</td>\n",
       "      <td>-0.046042</td>\n",
       "      <td>1.065023</td>\n",
       "      <td>2.61</td>\n",
       "      <td>-1.950000</td>\n",
       "      <td>-0.145000</td>\n",
       "      <td>-0.8775</td>\n",
       "      <td>...</td>\n",
       "      <td>-2.210000</td>\n",
       "      <td>2.259235</td>\n",
       "      <td>5.293386</td>\n",
       "      <td>-6.938461</td>\n",
       "      <td>6.073839</td>\n",
       "      <td>0.350000</td>\n",
       "      <td>-0.020000</td>\n",
       "      <td>-0.420000</td>\n",
       "      <td>-0.030000</td>\n",
       "      <td>-0.160939</td>\n",
       "    </tr>\n",
       "    <tr>\n",
       "      <th>3</th>\n",
       "      <td>66297</td>\n",
       "      <td>[2016-01-01, 2016-02-01, 2016-03-01, 2016-04-0...</td>\n",
       "      <td>[-0.33, 0.58, 1.1, -0.56, -0.95, -0.61, -0.7, ...</td>\n",
       "      <td>0.0</td>\n",
       "      <td>-0.130000</td>\n",
       "      <td>1.158201</td>\n",
       "      <td>2.49</td>\n",
       "      <td>-2.220000</td>\n",
       "      <td>-0.345000</td>\n",
       "      <td>-0.9500</td>\n",
       "      <td>...</td>\n",
       "      <td>-6.240000</td>\n",
       "      <td>14.407146</td>\n",
       "      <td>-0.603061</td>\n",
       "      <td>-2.169604</td>\n",
       "      <td>12.563081</td>\n",
       "      <td>0.670000</td>\n",
       "      <td>1.240000</td>\n",
       "      <td>1.590000</td>\n",
       "      <td>1.166667</td>\n",
       "      <td>1.303831</td>\n",
       "    </tr>\n",
       "    <tr>\n",
       "      <th>4</th>\n",
       "      <td>2191</td>\n",
       "      <td>[2016-01-01, 2016-02-01, 2016-03-01, 2016-04-0...</td>\n",
       "      <td>[1.31, 0.5, -0.54, 0.95, 0.65, 0.83, -1.55, -0...</td>\n",
       "      <td>0.0</td>\n",
       "      <td>-0.270536</td>\n",
       "      <td>1.270529</td>\n",
       "      <td>2.87</td>\n",
       "      <td>-2.500000</td>\n",
       "      <td>-0.475000</td>\n",
       "      <td>-1.2500</td>\n",
       "      <td>...</td>\n",
       "      <td>-15.150000</td>\n",
       "      <td>4.872180</td>\n",
       "      <td>0.946198</td>\n",
       "      <td>0.463918</td>\n",
       "      <td>-1.141916</td>\n",
       "      <td>-1.690000</td>\n",
       "      <td>-2.500000</td>\n",
       "      <td>-0.750000</td>\n",
       "      <td>-1.646667</td>\n",
       "      <td>-1.095591</td>\n",
       "    </tr>\n",
       "  </tbody>\n",
       "</table>\n",
       "<p>5 rows × 23 columns</p>\n",
       "</div>"
      ],
      "text/plain": [
       "      id                                              dates  \\\n",
       "0  19114  [2016-01-01, 2016-02-01, 2016-03-01, 2016-04-0...   \n",
       "1  22769  [2016-05-01, 2016-06-01, 2016-07-01, 2016-08-0...   \n",
       "2  76935  [2017-03-01, 2017-04-01, 2017-05-01, 2017-06-0...   \n",
       "3  66297  [2016-01-01, 2016-02-01, 2016-03-01, 2016-04-0...   \n",
       "4   2191  [2016-01-01, 2016-02-01, 2016-03-01, 2016-04-0...   \n",
       "\n",
       "                                              values  label      mean  \\\n",
       "0  [-1.86, 0.79, 1.4, 0.15, 0.0, -1.24, -1.46, 3....    0.0  0.023710   \n",
       "1  [-1.04, -3.48, 0.05, -0.13, -0.01, 0.03, 0.27,...    1.0 -0.310777   \n",
       "2  [0.28, 0.63, 0.06, 0.96, -1.4, -0.3, 1.62, 1.1...    0.0 -0.046042   \n",
       "3  [-0.33, 0.58, 1.1, -0.56, -0.95, -0.61, -0.7, ...    0.0 -0.130000   \n",
       "4  [1.31, 0.5, -0.54, 0.95, 0.65, 0.83, -1.55, -0...    0.0 -0.270536   \n",
       "\n",
       "        std   max       min    median     q25  ...  fourier_0  fourier_1  \\\n",
       "0  1.337272  3.49 -4.840000 -0.110000 -0.6825  ...   1.470000  -0.572143   \n",
       "1  1.556337  2.92 -3.534409 -0.274409 -1.0400  ... -13.984957   0.707216   \n",
       "2  1.065023  2.61 -1.950000 -0.145000 -0.8775  ...  -2.210000   2.259235   \n",
       "3  1.158201  2.49 -2.220000 -0.345000 -0.9500  ...  -6.240000  14.407146   \n",
       "4  1.270529  2.87 -2.500000 -0.475000 -1.2500  ... -15.150000   4.872180   \n",
       "\n",
       "   fourier_2  fourier_3  fourier_4     lag_1     lag_2     lag_3  moving_avg  \\\n",
       "0   3.571763  -0.089116  -4.543015  0.350000 -0.510000 -0.570000   -0.243333   \n",
       "1  -8.840319  -2.343972 -11.727264  0.045591 -0.444409 -0.054409   -0.151076   \n",
       "2   5.293386  -6.938461   6.073839  0.350000 -0.020000 -0.420000   -0.030000   \n",
       "3  -0.603061  -2.169604  12.563081  0.670000  1.240000  1.590000    1.166667   \n",
       "4   0.946198   0.463918  -1.141916 -1.690000 -2.500000 -0.750000   -1.646667   \n",
       "\n",
       "        ewm  \n",
       "0 -0.311900  \n",
       "1 -0.296800  \n",
       "2 -0.160939  \n",
       "3  1.303831  \n",
       "4 -1.095591  \n",
       "\n",
       "[5 rows x 23 columns]"
      ]
     },
     "execution_count": 15,
     "metadata": {},
     "output_type": "execute_result"
    }
   ],
   "source": [
    "df_train.head()"
   ]
  },
  {
   "cell_type": "code",
   "execution_count": 16,
   "id": "MBzqBi6x5HEq",
   "metadata": {
    "id": "MBzqBi6x5HEq"
   },
   "outputs": [],
   "source": [
    "df_train = df_train.dropna(axis=0, how='any')"
   ]
  },
  {
   "cell_type": "code",
   "execution_count": 17,
   "id": "aa964e14",
   "metadata": {
    "id": "aa964e14"
   },
   "outputs": [],
   "source": [
    "X = df_train.drop(columns=['id','label','dates','values'])\n",
    "y = df_train['label']"
   ]
  },
  {
   "cell_type": "code",
   "execution_count": 18,
   "id": "6fc00dc4",
   "metadata": {
    "id": "6fc00dc4"
   },
   "outputs": [],
   "source": [
    "X_train, X_test, y_train, y_test = train_test_split(X, y, test_size=0.3)"
   ]
  },
  {
   "cell_type": "code",
   "execution_count": 19,
   "id": "Z3TcbZ119YJL",
   "metadata": {
    "colab": {
     "base_uri": "https://localhost:8080/",
     "height": 565
    },
    "id": "Z3TcbZ119YJL",
    "outputId": "c62090ea-c727-4f5a-a4d1-284ae04bc7cb"
   },
   "outputs": [
    {
     "name": "stderr",
     "output_type": "stream",
     "text": [
      "C:\\Users\\ruzks\\AppData\\Local\\Temp\\ipykernel_25480\\1146349589.py:5: FutureWarning: \n",
      "\n",
      "Passing `palette` without assigning `hue` is deprecated and will be removed in v0.14.0. Assign the `x` variable to `hue` and set `legend=False` for the same effect.\n",
      "\n",
      "  sns.countplot(x='label', data=y_data, palette='hls')\n"
     ]
    },
    {
     "data": {
      "image/png": "[encoded data removed]",
      "text/plain": [
       "<Figure size 432x288 with 1 Axes>"
      ]
     },
     "metadata": {
      "needs_background": "light"
     },
     "output_type": "display_data"
    }
   ],
   "source": [
    "sns.set(style=\"white\")\n",
    "sns.set(style=\"whitegrid\", color_codes=True)\n",
    "df = pd.concat([X_train, y_train], axis=1)\n",
    "y_data = pd.DataFrame(df['label'])\n",
    "sns.countplot(x='label', data=y_data, palette='hls')\n",
    "plt.show()"
   ]
  },
  {
   "cell_type": "code",
   "execution_count": 20,
   "id": "LFdRgHwZ-TAa",
   "metadata": {
    "id": "LFdRgHwZ-TAa"
   },
   "outputs": [],
   "source": [
    "from imblearn.over_sampling import SMOTE\n",
    "\n",
    "smote = SMOTE(random_state=42)\n",
    "X_train_balanced, y_train_balanced = smote.fit_resample(X_train, y_train)"
   ]
  },
  {
   "cell_type": "code",
   "execution_count": 21,
   "id": "a24a165d",
   "metadata": {},
   "outputs": [
    {
     "name": "stderr",
     "output_type": "stream",
     "text": [
      "C:\\Users\\ruzks\\AppData\\Local\\Temp\\ipykernel_25480\\3725724126.py:5: FutureWarning: \n",
      "\n",
      "Passing `palette` without assigning `hue` is deprecated and will be removed in v0.14.0. Assign the `x` variable to `hue` and set `legend=False` for the same effect.\n",
      "\n",
      "  sns.countplot(x='label', data=y_data, palette='hls')\n"
     ]
    },
    {
     "data": {
      "image/png": "[encoded data removed]",
      "text/plain": [
       "<Figure size 432x288 with 1 Axes>"
      ]
     },
     "metadata": {},
     "output_type": "display_data"
    }
   ],
   "source": [
    "sns.set(style=\"white\")\n",
    "sns.set(style=\"whitegrid\", color_codes=True)\n",
    "df = pd.concat([X_train_balanced, y_train_balanced], axis=1)\n",
    "y_data = pd.DataFrame(df['label'])\n",
    "sns.countplot(x='label', data=y_data, palette='hls')\n",
    "plt.show()"
   ]
  },
  {
   "cell_type": "code",
   "execution_count": 22,
   "id": "DtFhZPwJfe9k",
   "metadata": {
    "colab": {
     "base_uri": "https://localhost:8080/"
    },
    "id": "DtFhZPwJfe9k",
    "outputId": "803685eb-9e96-46ce-be0b-d84a6bd80c19"
   },
   "outputs": [
    {
     "name": "stderr",
     "output_type": "stream",
     "text": [
      "C:\\Users\\ruzks\\anaconda3\\lib\\site-packages\\sklearn\\linear_model\\_logistic.py:814: ConvergenceWarning: lbfgs failed to converge (status=1):\n",
      "STOP: TOTAL NO. of ITERATIONS REACHED LIMIT.\n",
      "\n",
      "Increase the number of iterations (max_iter) or scale the data as shown in:\n",
      "    https://scikit-learn.org/stable/modules/preprocessing.html\n",
      "Please also refer to the documentation for alternative solver options:\n",
      "    https://scikit-learn.org/stable/modules/linear_model.html#logistic-regression\n",
      "  n_iter_i = _check_optimize_result(\n"
     ]
    }
   ],
   "source": [
    "model = LogisticRegression()\n",
    "model.fit(X_train_balanced, y_train_balanced)\n",
    "y_pred = model.predict(X_test)\n",
    "y_pred_prob = model.predict_proba(X_test)[:, 1]"
   ]
  },
  {
   "cell_type": "code",
   "execution_count": 23,
   "id": "KLdndK9ifg-t",
   "metadata": {
    "colab": {
     "base_uri": "https://localhost:8080/"
    },
    "id": "KLdndK9ifg-t",
    "outputId": "e2bb0a70-e116-4463-fa89-a456ddc801a1"
   },
   "outputs": [
    {
     "name": "stdout",
     "output_type": "stream",
     "text": [
      "Accuracy: 0.7986568782848086\n",
      "Precision: 0.6024603790313643\n",
      "Recall: 0.8142600359496704\n",
      "F1-score: 0.6925281865086949\n",
      "ROC-AUC: 0.8863491043167384\n"
     ]
    }
   ],
   "source": [
    "print(f'Accuracy: {accuracy_score(y_test, y_pred)}')\n",
    "print(f'Precision: {precision_score(y_test, y_pred)}')\n",
    "print(f'Recall: {recall_score(y_test, y_pred)}')\n",
    "print(f'F1-score: {f1_score(y_test, y_pred)}')\n",
    "print(f'ROC-AUC: {roc_auc_score(y_test, y_pred_prob)}')"
   ]
  },
  {
   "cell_type": "code",
   "execution_count": 24,
   "id": "87129596",
   "metadata": {
    "colab": {
     "base_uri": "https://localhost:8080/",
     "height": 458
    },
    "id": "87129596",
    "outputId": "b1605d7f-00ea-46aa-f81d-e1055a43a801"
   },
   "outputs": [
    {
     "data": {
      "image/png": "[encoded data removed]",
      "text/plain": [
       "<Figure size 432x288 with 2 Axes>"
      ]
     },
     "metadata": {},
     "output_type": "display_data"
    }
   ],
   "source": [
    "from sklearn.metrics import confusion_matrix, ConfusionMatrixDisplay\n",
    "\n",
    "cm = confusion_matrix(y_test, y_pred, labels=model.classes_)\n",
    "disp = ConfusionMatrixDisplay(confusion_matrix=cm,\n",
    "                              display_labels=model.classes_)\n",
    "disp.plot();"
   ]
  },
  {
   "cell_type": "markdown",
   "id": "gkU-BFXKlr50",
   "metadata": {
    "id": "gkU-BFXKlr50"
   },
   "source": [
    "## Сохранение модели"
   ]
  },
  {
   "cell_type": "code",
   "execution_count": 25,
   "id": "uOzs1W_pGWGw",
   "metadata": {
    "id": "uOzs1W_pGWGw"
   },
   "outputs": [],
   "source": [
    "import pickle\n",
    "\n",
    "with open('model.pkl','wb') as f:\n",
    "    pickle.dump(model,f)\n",
    "f.close()"
   ]
  }
 ],
 "metadata": {
  "colab": {
   "provenance": []
  },
  "kernelspec": {
   "display_name": "Python 3 (ipykernel)",
   "language": "python",
   "name": "python3"
  },
  "language_info": {
   "codemirror_mode": {
    "name": "ipython",
    "version": 3
   },
   "file_extension": ".py",
   "mimetype": "text/x-python",
   "name": "python",
   "nbconvert_exporter": "python",
   "pygments_lexer": "ipython3",
   "version": "3.9.12"
  }
 },
 "nbformat": 4,
 "nbformat_minor": 5
}
