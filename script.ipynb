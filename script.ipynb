{
 "cells": [
  {
   "cell_type": "code",
   "execution_count": 63,
   "id": "3f21d74e",
   "metadata": {},
   "outputs": [],
   "source": [
    "import pickle\n",
    "import numpy as np\n",
    "import pandas as pd\n",
    "import seaborn as sns\n",
    "import matplotlib.pyplot as plt\n",
    "from scipy.stats import skew, kurtosis"
   ]
  },
  {
   "cell_type": "code",
   "execution_count": 64,
   "id": "f8a99333",
   "metadata": {},
   "outputs": [
    {
     "data": {
      "text/html": [
       "<div>\n",
       "<style scoped>\n",
       "    .dataframe tbody tr th:only-of-type {\n",
       "        vertical-align: middle;\n",
       "    }\n",
       "\n",
       "    .dataframe tbody tr th {\n",
       "        vertical-align: top;\n",
       "    }\n",
       "\n",
       "    .dataframe thead th {\n",
       "        text-align: right;\n",
       "    }\n",
       "</style>\n",
       "<table border=\"1\" class=\"dataframe\">\n",
       "  <thead>\n",
       "    <tr style=\"text-align: right;\">\n",
       "      <th></th>\n",
       "      <th>id</th>\n",
       "      <th>dates</th>\n",
       "      <th>values</th>\n",
       "    </tr>\n",
       "  </thead>\n",
       "  <tbody>\n",
       "    <tr>\n",
       "      <th>0</th>\n",
       "      <td>6125</td>\n",
       "      <td>[2016-01-01, 2016-02-01, 2016-03-01, 2016-04-0...</td>\n",
       "      <td>[1.85, -0.04, 0.19, -0.45, -0.75, -0.95, -2.91...</td>\n",
       "    </tr>\n",
       "    <tr>\n",
       "      <th>1</th>\n",
       "      <td>26781</td>\n",
       "      <td>[2016-01-01, 2016-02-01, 2016-03-01, 2016-04-0...</td>\n",
       "      <td>[-0.41, 0.39, -0.47, -0.9, -1.46, -0.51, 0.51,...</td>\n",
       "    </tr>\n",
       "    <tr>\n",
       "      <th>2</th>\n",
       "      <td>13333</td>\n",
       "      <td>[2016-06-01, 2016-07-01, 2016-08-01, 2016-09-0...</td>\n",
       "      <td>[-0.29, -1.26, 0.17, -1.22, 0.45, -0.94, 0.16,...</td>\n",
       "    </tr>\n",
       "    <tr>\n",
       "      <th>3</th>\n",
       "      <td>53218</td>\n",
       "      <td>[2016-01-01, 2016-02-01, 2016-03-01, 2016-04-0...</td>\n",
       "      <td>[-1.47, 1.55, -0.03, 0.57, -0.57, 0.6, 0.27, 1...</td>\n",
       "    </tr>\n",
       "    <tr>\n",
       "      <th>4</th>\n",
       "      <td>84204</td>\n",
       "      <td>[2016-01-01, 2016-02-01, 2016-03-01, 2016-04-0...</td>\n",
       "      <td>[2.33, 1.39, -1.03, -2.64, 1.89, 1.77, 1.43, 1...</td>\n",
       "    </tr>\n",
       "  </tbody>\n",
       "</table>\n",
       "</div>"
      ],
      "text/plain": [
       "      id                                              dates  \\\n",
       "0   6125  [2016-01-01, 2016-02-01, 2016-03-01, 2016-04-0...   \n",
       "1  26781  [2016-01-01, 2016-02-01, 2016-03-01, 2016-04-0...   \n",
       "2  13333  [2016-06-01, 2016-07-01, 2016-08-01, 2016-09-0...   \n",
       "3  53218  [2016-01-01, 2016-02-01, 2016-03-01, 2016-04-0...   \n",
       "4  84204  [2016-01-01, 2016-02-01, 2016-03-01, 2016-04-0...   \n",
       "\n",
       "                                              values  \n",
       "0  [1.85, -0.04, 0.19, -0.45, -0.75, -0.95, -2.91...  \n",
       "1  [-0.41, 0.39, -0.47, -0.9, -1.46, -0.51, 0.51,...  \n",
       "2  [-0.29, -1.26, 0.17, -1.22, 0.45, -0.94, 0.16,...  \n",
       "3  [-1.47, 1.55, -0.03, 0.57, -0.57, 0.6, 0.27, 1...  \n",
       "4  [2.33, 1.39, -1.03, -2.64, 1.89, 1.77, 1.43, 1...  "
      ]
     },
     "execution_count": 64,
     "metadata": {},
     "output_type": "execute_result"
    }
   ],
   "source": [
    "test = pd.read_parquet('data/test.parquet')\n",
    "test.head()"
   ]
  },
  {
   "cell_type": "code",
   "execution_count": 65,
   "id": "540c0f9b",
   "metadata": {},
   "outputs": [],
   "source": [
    "with open('model.pkl', 'rb') as f:\n",
    "    model = pickle.load(f)\n",
    "f.close()"
   ]
  },
  {
   "cell_type": "markdown",
   "id": "8e081218",
   "metadata": {},
   "source": [
    "### Преобразование тестового набора данных"
   ]
  },
  {
   "cell_type": "code",
   "execution_count": 66,
   "id": "fbf5a704",
   "metadata": {},
   "outputs": [],
   "source": [
    "def extract_basic_stats(row):\n",
    "    values = np.array(row['values'])\n",
    "    return pd.Series({\n",
    "        'mean': np.mean(values),\n",
    "        'std': np.std(values),\n",
    "        'max': np.max(values),\n",
    "        'min': np.min(values),\n",
    "        'median': np.median(values),\n",
    "        'q25': np.percentile(values, 25),\n",
    "        'q75': np.percentile(values, 75),\n",
    "        'skewness': skew(values),\n",
    "        'kurtosis': kurtosis(values)\n",
    "    })"
   ]
  },
  {
   "cell_type": "code",
   "execution_count": 67,
   "id": "4fca1e77",
   "metadata": {},
   "outputs": [],
   "source": [
    "df_stats = test.apply(extract_basic_stats, axis=1)\n",
    "df_test = pd.concat([test, df_stats], axis=1)"
   ]
  },
  {
   "cell_type": "code",
   "execution_count": 68,
   "id": "d7e89fa8",
   "metadata": {},
   "outputs": [],
   "source": [
    "def extract_fourier_features(row, n_coeffs=5):\n",
    "    values = np.array(row['values'])\n",
    "    fourier_coeffs = np.fft.fft(values)[:n_coeffs].real \n",
    "    return pd.Series(fourier_coeffs, index=[f'fourier_{i}' for i in range(n_coeffs)])"
   ]
  },
  {
   "cell_type": "code",
   "execution_count": 69,
   "id": "4f84582e",
   "metadata": {},
   "outputs": [],
   "source": [
    "df_fourier = test.apply(extract_fourier_features, axis=1)\n",
    "df_test = pd.concat([df_test, df_fourier], axis=1)"
   ]
  },
  {
   "cell_type": "code",
   "execution_count": 70,
   "id": "0e997ecd",
   "metadata": {},
   "outputs": [],
   "source": [
    "def create_lag_features(row, lags=3):\n",
    "    values = np.array(row['values'])\n",
    "    lag_features = values[-lags:] if len(values) >= lags else np.pad(values, (lags - len(values), 0), mode='constant')\n",
    "    return pd.Series(lag_features, index=[f'lag_{i+1}' for i in range(lags)])"
   ]
  },
  {
   "cell_type": "code",
   "execution_count": 71,
   "id": "1716316a",
   "metadata": {},
   "outputs": [],
   "source": [
    "df_lags = test.apply(create_lag_features, axis=1)\n",
    "df_test = pd.concat([df_test, df_lags], axis=1)"
   ]
  },
  {
   "cell_type": "code",
   "execution_count": 72,
   "id": "b32f169d",
   "metadata": {},
   "outputs": [],
   "source": [
    "def extract_moving_avg_ewm(row, window=3, alpha=0.5):\n",
    "    values = pd.Series(row['values'])\n",
    "    moving_avg = values.rolling(window).mean().iloc[-1] if len(values) >= window else np.nan\n",
    "    ewm = values.ewm(alpha=alpha).mean().iloc[-1]\n",
    "    return pd.Series({'moving_avg': moving_avg, 'ewm': ewm})"
   ]
  },
  {
   "cell_type": "code",
   "execution_count": 73,
   "id": "8616b5bc",
   "metadata": {},
   "outputs": [],
   "source": [
    "df_smoothing = test.apply(extract_moving_avg_ewm, axis=1)\n",
    "df_test = pd.concat([df_test, df_smoothing], axis=1)"
   ]
  },
  {
   "cell_type": "code",
   "execution_count": 74,
   "id": "afc23cf5",
   "metadata": {},
   "outputs": [],
   "source": [
    "df_test = df_test.dropna(axis=0, how='any')"
   ]
  },
  {
   "cell_type": "code",
   "execution_count": 75,
   "id": "8173f8c7",
   "metadata": {},
   "outputs": [],
   "source": [
    "X = df_test.drop(columns=['id','dates','values'])"
   ]
  },
  {
   "cell_type": "markdown",
   "id": "c120a2dc",
   "metadata": {},
   "source": [
    "### Получение и сохрание результатов"
   ]
  },
  {
   "cell_type": "code",
   "execution_count": 90,
   "id": "3841870b",
   "metadata": {},
   "outputs": [
    {
     "data": {
      "text/plain": [
       "(19979,)"
      ]
     },
     "execution_count": 90,
     "metadata": {},
     "output_type": "execute_result"
    }
   ],
   "source": [
    "# y_pred = model.predict(X)\n",
    "answers_pred = model.predict_proba(X)[:, 1] \n",
    "answers_pred.shape"
   ]
  },
  {
   "cell_type": "code",
   "execution_count": 98,
   "id": "4dccc4d1",
   "metadata": {},
   "outputs": [
    {
     "data": {
      "text/html": [
       "<div>\n",
       "<style scoped>\n",
       "    .dataframe tbody tr th:only-of-type {\n",
       "        vertical-align: middle;\n",
       "    }\n",
       "\n",
       "    .dataframe tbody tr th {\n",
       "        vertical-align: top;\n",
       "    }\n",
       "\n",
       "    .dataframe thead th {\n",
       "        text-align: right;\n",
       "    }\n",
       "</style>\n",
       "<table border=\"1\" class=\"dataframe\">\n",
       "  <thead>\n",
       "    <tr style=\"text-align: right;\">\n",
       "      <th></th>\n",
       "      <th>id</th>\n",
       "      <th>score</th>\n",
       "    </tr>\n",
       "  </thead>\n",
       "  <tbody>\n",
       "    <tr>\n",
       "      <th>0</th>\n",
       "      <td>6125</td>\n",
       "      <td>0.228028</td>\n",
       "    </tr>\n",
       "    <tr>\n",
       "      <th>1</th>\n",
       "      <td>26781</td>\n",
       "      <td>0.541191</td>\n",
       "    </tr>\n",
       "    <tr>\n",
       "      <th>2</th>\n",
       "      <td>13333</td>\n",
       "      <td>0.437553</td>\n",
       "    </tr>\n",
       "    <tr>\n",
       "      <th>3</th>\n",
       "      <td>53218</td>\n",
       "      <td>0.038625</td>\n",
       "    </tr>\n",
       "    <tr>\n",
       "      <th>4</th>\n",
       "      <td>84204</td>\n",
       "      <td>0.683139</td>\n",
       "    </tr>\n",
       "    <tr>\n",
       "      <th>...</th>\n",
       "      <td>...</td>\n",
       "      <td>...</td>\n",
       "    </tr>\n",
       "    <tr>\n",
       "      <th>19974</th>\n",
       "      <td>80341</td>\n",
       "      <td>0.310267</td>\n",
       "    </tr>\n",
       "    <tr>\n",
       "      <th>19975</th>\n",
       "      <td>5891</td>\n",
       "      <td>0.089879</td>\n",
       "    </tr>\n",
       "    <tr>\n",
       "      <th>19976</th>\n",
       "      <td>29091</td>\n",
       "      <td>0.022812</td>\n",
       "    </tr>\n",
       "    <tr>\n",
       "      <th>19977</th>\n",
       "      <td>85877</td>\n",
       "      <td>0.466163</td>\n",
       "    </tr>\n",
       "    <tr>\n",
       "      <th>19978</th>\n",
       "      <td>73528</td>\n",
       "      <td>0.025015</td>\n",
       "    </tr>\n",
       "  </tbody>\n",
       "</table>\n",
       "<p>19979 rows × 2 columns</p>\n",
       "</div>"
      ],
      "text/plain": [
       "          id     score\n",
       "0       6125  0.228028\n",
       "1      26781  0.541191\n",
       "2      13333  0.437553\n",
       "3      53218  0.038625\n",
       "4      84204  0.683139\n",
       "...      ...       ...\n",
       "19974  80341  0.310267\n",
       "19975   5891  0.089879\n",
       "19976  29091  0.022812\n",
       "19977  85877  0.466163\n",
       "19978  73528  0.025015\n",
       "\n",
       "[19979 rows x 2 columns]"
      ]
     },
     "execution_count": 98,
     "metadata": {},
     "output_type": "execute_result"
    }
   ],
   "source": [
    "predictions = pd.DataFrame(answers_pred)\n",
    "predictions.reset_index(drop=True, inplace=True)\n",
    "df_test.reset_index(drop=True, inplace=True)\n",
    "predictions = pd.concat([df_test['id'], predictions], axis=1, ignore_index=True)\n",
    "predictions.columns = ['id', 'score']\n",
    "predictions"
   ]
  },
  {
   "cell_type": "code",
   "execution_count": 100,
   "id": "6d02c53e",
   "metadata": {},
   "outputs": [],
   "source": [
    "predictions.to_csv('submission.csv', index=False)"
   ]
  },
  {
   "cell_type": "code",
   "execution_count": null,
   "id": "f15166be",
   "metadata": {},
   "outputs": [],
   "source": []
  }
 ],
 "metadata": {
  "kernelspec": {
   "display_name": "Python 3 (ipykernel)",
   "language": "python",
   "name": "python3"
  },
  "language_info": {
   "codemirror_mode": {
    "name": "ipython",
    "version": 3
   },
   "file_extension": ".py",
   "mimetype": "text/x-python",
   "name": "python",
   "nbconvert_exporter": "python",
   "pygments_lexer": "ipython3",
   "version": "3.9.12"
  }
 },
 "nbformat": 4,
 "nbformat_minor": 5
}
